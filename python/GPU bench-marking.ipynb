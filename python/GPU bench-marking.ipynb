{
 "cells": [
  {
   "cell_type": "code",
   "execution_count": 5,
   "source": [
    "import tensorflow as tf \r\n",
    "from tensorflow import keras\r\n",
    "import matplotlib.pyplot as plt \r\n",
    "import numpy as np "
   ],
   "outputs": [],
   "metadata": {}
  },
  {
   "cell_type": "code",
   "execution_count": 4,
   "source": [
    "tf.config.experimental.list_physical_devices()"
   ],
   "outputs": [
    {
     "output_type": "execute_result",
     "data": {
      "text/plain": [
       "[PhysicalDevice(name='/physical_device:CPU:0', device_type='CPU')]"
      ]
     },
     "metadata": {},
     "execution_count": 4
    }
   ],
   "metadata": {}
  },
  {
   "cell_type": "code",
   "execution_count": 6,
   "source": [
    "(X_train, y_train), (X_test,y_test) = tf.keras.datasets.cifar10.load_data()"
   ],
   "outputs": [
    {
     "output_type": "stream",
     "name": "stdout",
     "text": [
      "Downloading data from https://www.cs.toronto.edu/~kriz/cifar-10-python.tar.gz\n",
      "170500096/170498071 [==============================] - 65s 0us/step\n"
     ]
    }
   ],
   "metadata": {}
  },
  {
   "cell_type": "code",
   "execution_count": 7,
   "source": [
    "X_train.shape"
   ],
   "outputs": [
    {
     "output_type": "execute_result",
     "data": {
      "text/plain": [
       "(50000, 32, 32, 3)"
      ]
     },
     "metadata": {},
     "execution_count": 7
    }
   ],
   "metadata": {}
  },
  {
   "cell_type": "code",
   "execution_count": 11,
   "source": [
    "plt.matshow(X_train[2])"
   ],
   "outputs": [
    {
     "output_type": "execute_result",
     "data": {
      "text/plain": [
       "<matplotlib.image.AxesImage at 0x15cf6a2a640>"
      ]
     },
     "metadata": {},
     "execution_count": 11
    },
    {
     "output_type": "display_data",
     "data": {
      "image/png": "[encoded data removed]",
      "text/plain": [
       "<Figure size 288x288 with 1 Axes>"
      ]
     },
     "metadata": {
      "needs_background": "light"
     }
    }
   ],
   "metadata": {}
  },
  {
   "cell_type": "code",
   "execution_count": 10,
   "source": [
    "y_train[0:5]"
   ],
   "outputs": [
    {
     "output_type": "execute_result",
     "data": {
      "text/plain": [
       "array([[6],\n",
       "       [9],\n",
       "       [9],\n",
       "       [4],\n",
       "       [1]], dtype=uint8)"
      ]
     },
     "metadata": {},
     "execution_count": 10
    }
   ],
   "metadata": {}
  },
  {
   "cell_type": "code",
   "execution_count": 12,
   "source": [
    "classes = [\"airplane\",\"automobile\",\"bird\",\"cat\",\"deer\",\"dog\",\"frog\",\"horse\",\"ship\",\"truck\"]"
   ],
   "outputs": [],
   "metadata": {}
  },
  {
   "cell_type": "code",
   "execution_count": 14,
   "source": [
    "X_train_scaled = X_train / 255\r\n",
    "X_test_scaled = X_test / 255"
   ],
   "outputs": [],
   "metadata": {}
  },
  {
   "cell_type": "code",
   "execution_count": 15,
   "source": [
    "y_train_categorical = keras.utils.to_categorical(\r\n",
    "    y_train, num_classes=10, dtype='float32'\r\n",
    ")\r\n",
    "y_test_categorical = keras.utils.to_categorical(\r\n",
    "    y_test, num_classes=10, dtype='float32'\r\n",
    ")"
   ],
   "outputs": [],
   "metadata": {}
  },
  {
   "cell_type": "code",
   "execution_count": 17,
   "source": [
    "model = keras.Sequential([\r\n",
    "        keras.layers.Flatten(input_shape=(32,32,3)),\r\n",
    "        keras.layers.Dense(3000, activation='relu'),\r\n",
    "        keras.layers.Dense(1000, activation='relu'),\r\n",
    "        keras.layers.Dense(10, activation='sigmoid')    \r\n",
    "    ])\r\n",
    "model.compile(optimizer='SGD',\r\n",
    "              loss='categorical_crossentropy',\r\n",
    "              metrics=['accuracy'])\r\n",
    "\r\n",
    "model.fit(X_train_scaled, y_train_categorical, epochs=50)"
   ],
   "outputs": [
    {
     "output_type": "stream",
     "name": "stdout",
     "text": [
      "Epoch 1/50\n",
      "1563/1563 [==============================] - 69s 44ms/step - loss: 1.8113 - accuracy: 0.3546\n",
      "Epoch 2/50\n",
      "1563/1563 [==============================] - 71s 46ms/step - loss: 1.6218 - accuracy: 0.4286\n",
      "Epoch 3/50\n",
      "1563/1563 [==============================] - 67s 43ms/step - loss: 1.5403 - accuracy: 0.4570\n",
      "Epoch 4/50\n",
      "1563/1563 [==============================] - 70s 45ms/step - loss: 1.4801 - accuracy: 0.4762\n",
      "Epoch 5/50\n",
      "1563/1563 [==============================] - 69s 44ms/step - loss: 1.4318 - accuracy: 0.4957\n",
      "Epoch 6/50\n",
      "1563/1563 [==============================] - 72s 46ms/step - loss: 1.3874 - accuracy: 0.5109\n",
      "Epoch 7/50\n",
      "1563/1563 [==============================] - 74s 47ms/step - loss: 1.3486 - accuracy: 0.5295\n",
      "Epoch 8/50\n",
      "1563/1563 [==============================] - 71s 45ms/step - loss: 1.3137 - accuracy: 0.5390\n",
      "Epoch 9/50\n",
      "1563/1563 [==============================] - 65s 41ms/step - loss: 1.2841 - accuracy: 0.5469\n",
      "Epoch 10/50\n",
      "1563/1563 [==============================] - 66s 42ms/step - loss: 1.2517 - accuracy: 0.5599\n",
      "Epoch 11/50\n",
      "1563/1563 [==============================] - 65s 41ms/step - loss: 1.2221 - accuracy: 0.5709\n",
      "Epoch 12/50\n",
      "1563/1563 [==============================] - 66s 42ms/step - loss: 1.1914 - accuracy: 0.5812\n",
      "Epoch 13/50\n",
      "1563/1563 [==============================] - 61s 39ms/step - loss: 1.1649 - accuracy: 0.5934\n",
      "Epoch 14/50\n",
      "1563/1563 [==============================] - 61s 39ms/step - loss: 1.1369 - accuracy: 0.6032\n",
      "Epoch 15/50\n",
      "1563/1563 [==============================] - 61s 39ms/step - loss: 1.1102 - accuracy: 0.6128\n",
      "Epoch 16/50\n",
      "1563/1563 [==============================] - 61s 39ms/step - loss: 1.0846 - accuracy: 0.6209\n",
      "Epoch 17/50\n",
      "1563/1563 [==============================] - 61s 39ms/step - loss: 1.0605 - accuracy: 0.6310\n",
      "Epoch 18/50\n",
      "1563/1563 [==============================] - 65s 41ms/step - loss: 1.0334 - accuracy: 0.6405\n",
      "Epoch 19/50\n",
      "1563/1563 [==============================] - 68s 44ms/step - loss: 1.0068 - accuracy: 0.6500\n",
      "Epoch 20/50\n",
      "1563/1563 [==============================] - 62s 40ms/step - loss: 0.9778 - accuracy: 0.6607\n",
      "Epoch 21/50\n",
      "1563/1563 [==============================] - 62s 40ms/step - loss: 0.9524 - accuracy: 0.6714\n",
      "Epoch 22/50\n",
      "1563/1563 [==============================] - 62s 40ms/step - loss: 0.9309 - accuracy: 0.6780\n",
      "Epoch 23/50\n",
      "1563/1563 [==============================] - 62s 40ms/step - loss: 0.9030 - accuracy: 0.6857\n",
      "Epoch 24/50\n",
      "1563/1563 [==============================] - 61s 39ms/step - loss: 0.8770 - accuracy: 0.6988\n",
      "Epoch 25/50\n",
      "1563/1563 [==============================] - 62s 39ms/step - loss: 0.8525 - accuracy: 0.7059\n",
      "Epoch 26/50\n",
      "1563/1563 [==============================] - 61s 39ms/step - loss: 0.8250 - accuracy: 0.7176\n",
      "Epoch 27/50\n",
      "1563/1563 [==============================] - 62s 40ms/step - loss: 0.8017 - accuracy: 0.7259\n",
      "Epoch 28/50\n",
      "1563/1563 [==============================] - 62s 39ms/step - loss: 0.7752 - accuracy: 0.7329\n",
      "Epoch 29/50\n",
      "1563/1563 [==============================] - 62s 39ms/step - loss: 0.7515 - accuracy: 0.7439\n",
      "Epoch 30/50\n",
      "1050/1563 [===================>..........] - ETA: 21s - loss: 0.7205 - accuracy: 0.7531"
     ]
    }
   ],
   "metadata": {}
  },
  {
   "cell_type": "code",
   "execution_count": null,
   "source": [],
   "outputs": [],
   "metadata": {}
  },
  {
   "cell_type": "code",
   "execution_count": null,
   "source": [],
   "outputs": [],
   "metadata": {}
  }
 ],
 "metadata": {
  "orig_nbformat": 4,
  "language_info": {
   "name": "python",
   "version": "3.8.8",
   "mimetype": "text/x-python",
   "codemirror_mode": {
    "name": "ipython",
    "version": 3
   },
   "pygments_lexer": "ipython3",
   "nbconvert_exporter": "python",
   "file_extension": ".py"
  },
  "kernelspec": {
   "name": "python3",
   "display_name": "Python 3.8.8 64-bit"
  },
  "interpreter": {
   "hash": "2db524e06e9f5f4ffedc911c917cb75e12dbc923643829bf417064a77eb14d37"
  }
 },
 "nbformat": 4,
 "nbformat_minor": 2
}